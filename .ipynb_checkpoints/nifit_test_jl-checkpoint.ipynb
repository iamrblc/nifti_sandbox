{
 "cells": [
  {
   "cell_type": "markdown",
   "id": "45d1cc8f-8579-4cd7-b7d2-8a700c2fffcd",
   "metadata": {},
   "source": [
    "# Handling nifti files in Julia"
   ]
  },
  {
   "cell_type": "code",
   "execution_count": null,
   "id": "63492e8a-5e15-4721-82aa-110cc99d898b",
   "metadata": {},
   "outputs": [],
   "source": [
    "using NifTI"
   ]
  },
  {
   "cell_type": "code",
   "execution_count": null,
   "id": "59ce9371-0c46-4321-946e-d06ca3311776",
   "metadata": {},
   "outputs": [],
   "source": []
  }
 ],
 "metadata": {
  "kernelspec": {
   "display_name": "Julia 1.8.5",
   "language": "julia",
   "name": "julia-1.8"
  },
  "language_info": {
   "name": ""
  }
 },
 "nbformat": 4,
 "nbformat_minor": 5
}
